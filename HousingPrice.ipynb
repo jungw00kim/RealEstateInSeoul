{
 "cells": [
  {
   "cell_type": "code",
   "execution_count": null,
   "metadata": {},
   "outputs": [],
   "source": [
    "from urllib.parse import urlencode, quote_plus\n",
    "from urllib.request import urlopen, Request\n",
    "import pandas as pd\n",
    "import json, xmltodict\n",
    "import pandas_profiling\n",
    "\n",
    "service_key = 'VtS0z8ILedUMwjLe4kgmh6T8MWir/F9BsncSDqxFPsMsJaeTDkw3fDhNisjV5GdZerEeaEhxwDYbDhRG2SDz1g=='"
   ]
  },
  {
   "cell_type": "code",
   "execution_count": null,
   "metadata": {},
   "outputs": [],
   "source": [
    "def get_gongdong_price(pnu, stdrYear, numOfRows, pageNo):    \n",
    "    queryParams = '?' + urlencode({ quote_plus('ServiceKey') : service_key, quote_plus('pnu') : pnu, quote_plus('stdrYear') : stdrYear, quote_plus('format') : 'json', quote_plus('numOfRows') : numOfRows, quote_plus('pageNo') : pageNo })\n",
    "    \n",
    "    url = 'http://apis.data.go.kr/1611000/nsdi/ApartHousingPriceService/attr/getApartHousingPriceAttr'\n",
    "    request = Request(url + queryParams)\n",
    "    request.get_method = lambda: 'GET'\n",
    "    response_body = urlopen(request).read().decode('utf-8')\n",
    "    data = json.loads(response_body)\n",
    "    \n",
    "    return data"
   ]
  },
  {
   "cell_type": "code",
   "execution_count": null,
   "metadata": {},
   "outputs": [],
   "source": [
    "def get_price_yeonrib(LAWD_CD, DEAL_YMD):\n",
    "    queryParams = '?' + urlencode({ quote_plus('ServiceKey') : service_key, quote_plus('LAWD_CD') : LAWD_CD, quote_plus('DEAL_YMD') : DEAL_YMD })\n",
    "\n",
    "    url_yeonrib = 'http://openapi.molit.go.kr:8081/OpenAPI_ToolInstallPackage/service/rest/RTMSOBJSvc/getRTMSDataSvcRHTrade'\n",
    "    request = Request(url_yeonrib + queryParams)\n",
    "    request.get_method = lambda: 'GET'\n",
    "    response_body = urlopen(request).read().decode('utf-8')\n",
    "    data = json.loads(json.dumps(xmltodict.parse(response_body)))\n",
    "    \n",
    "    return data"
   ]
  },
  {
   "cell_type": "code",
   "execution_count": null,
   "metadata": {},
   "outputs": [],
   "source": [
    "code_df = pd.read_csv('/Users/jungwookim/dev/RealEstateInSeoul/beob_code.csv', encoding = \"utf-8\", index_col='법정동코드')\n",
    "code_dic = code_df.loc[:,['법정동명']].to_dict()['법정동명']\n",
    "\n",
    "seoul_code_list = list()\n",
    "for code in code_dic:\n",
    "    if code < 2000000000:\n",
    "        seoul_code_10[code] = code_dic[code]\n",
    "        \n",
    "for key in seoul_code_list:\n",
    "    seoul_code_list.append((str(key)[:5], str(key)[5:], seoul_code_10[key]))"
   ]
  },
  {
   "cell_type": "code",
   "execution_count": null,
   "metadata": {},
   "outputs": [],
   "source": [
    "def get_address(code_list):\n",
    "    address_list = list()\n",
    "    for item in code_list:\n",
    "        # ~구라고 되어있는 곳까지 짜르고\n",
    "        if item[2].find('구') == -1:\n",
    "            continue\n",
    "        else:\n",
    "            split_point = item[2].find('구')\n",
    "            tp = (item[0], item[2][:split_point+1], item[1], item[2][split_point+1:].replace(\" \", \"\"))\n",
    "            address_list.append(tp)\n",
    "    return address_list"
   ]
  },
  {
   "cell_type": "code",
   "execution_count": null,
   "metadata": {},
   "outputs": [],
   "source": [
    "# 예외 처리 방법\n",
    "def get_jibunCode(jibun):\n",
    "    if '-' in jibun:\n",
    "        split_point = jibun.find('-')\n",
    "        if len(jibun[:split_point]) == 1:\n",
    "            if len(jibun[split_point+1:]) == 1:\n",
    "                return '000'+jibun[:split_point]+'000'+jibun[split_point+1:]\n",
    "            elif len(jibun[split_point+1:]) == 2:\n",
    "                return '000'+jibun[:split_point]+'00'+jibun[split_point+1:]\n",
    "            elif len(jibun[split_point+1:]) == 3:\n",
    "                return '000'+jibun[:split_point]+'0'+jibun[split_point+1:]\n",
    "            elif len(jibun[split_point+1:]) == 4:\n",
    "                return '000'+jibun[:split_point]+jibun[split_point+1:]\n",
    "        elif len(jibun[:split_point]) == 2:\n",
    "            if len(jibun[split_point+1:]) == 1:\n",
    "                return '00'+jibun[:split_point]+'000'+jibun[split_point+1:]\n",
    "            elif len(jibun[split_point+1:]) == 2:\n",
    "                return '00'+jibun[:split_point]+'00'+jibun[split_point+1:]\n",
    "            elif len(jibun[split_point+1:]) == 3:\n",
    "                return '00'+jibun[:split_point]+'0'+jibun[split_point+1:]\n",
    "            elif len(jibun[split_point+1:]) == 4:\n",
    "                return '00'+jibun[:split_point]+jibun[split_point+1:]\n",
    "        elif len(jibun[:split_point]) == 3:\n",
    "            if len(jibun[split_point+1:]) == 1:\n",
    "                return '0'+jibun[:split_point]+'000'+jibun[split_point+1:]\n",
    "            elif len(jibun[split_point+1:]) == 2:\n",
    "                return '0'+jibun[:split_point]+'00'+jibun[split_point+1:]\n",
    "            elif len(jibun[split_point+1:]) == 3:\n",
    "                return '0'+jibun[:split_point]+'0'+jibun[split_point+1:]\n",
    "            elif len(jibun[split_point+1:]) == 4:\n",
    "                return '0'+jibun[:split_point]+jibun[split_point+1:]\n",
    "        elif len(jibun[:split_point]) == 1:\n",
    "            if len(jibun[split_point+1:]) == 4:\n",
    "                return jibun[:split_point]+'000'+jibun[split_point+1:]\n",
    "            elif len(jibun[split_point+1:]) == 2:\n",
    "                return jibun[:split_point]+'00'+jibun[split_point+1:]\n",
    "            elif len(jibun[split_point+1:]) == 3:\n",
    "                return jibun[:split_point]+'0'+jibun[split_point+1:]\n",
    "            elif len(jibun[split_point+1:]) == 4:\n",
    "                return jibun[:split_point]+jibun[split_point+1:]\n",
    "    else:\n",
    "        if len(jibun) == 1:\n",
    "            return '000'+jibun+'0000'\n",
    "        elif len(jibun) == 2:\n",
    "            return '00'+jibun+'0000'\n",
    "        elif len(jibun) == 3:\n",
    "            return '0'+jibun+'0000'\n",
    "        elif len(jibun) == 4:\n",
    "            return jibun+'0000'"
   ]
  },
  {
   "cell_type": "code",
   "execution_count": null,
   "metadata": {},
   "outputs": [],
   "source": [
    "data2 = get_price_yeonrib('11110', '201712')\n",
    "df2 = pd.DataFrame(data2['response']['body']['items']['item'])\n",
    "df2.head()"
   ]
  },
  {
   "cell_type": "code",
   "execution_count": null,
   "metadata": {},
   "outputs": [],
   "source": [
    "# dongCode 추가\n",
    "\n",
    "address_list = get_address(seoul_code_list)\n",
    "dong_list = list()\n",
    "for a, row in df2.iterrows():\n",
    "    for item in address_list:\n",
    "        if row['지역코드'] == item[0]:\n",
    "            if row['법정동'] == item[3]:\n",
    "                dong_list.append(item[2])\n",
    "\n",
    "df2['dongCode'] = dong_list"
   ]
  },
  {
   "cell_type": "code",
   "execution_count": null,
   "metadata": {},
   "outputs": [],
   "source": [
    "# jibunCode 추가\n",
    "df2['jibunCode'] = df2['지번'].map(get_jibunCode)"
   ]
  },
  {
   "cell_type": "code",
   "execution_count": null,
   "metadata": {},
   "outputs": [],
   "source": [
    "# 최종 pnu 생성\n",
    "df2['pnu'] = df2['지역코드'] + df2['dongCode'] + '1' + df2['jibunCode']"
   ]
  }
 ],
 "metadata": {
  "kernelspec": {
   "display_name": "Python 3",
   "language": "python",
   "name": "python3"
  },
  "language_info": {
   "codemirror_mode": {
    "name": "ipython",
    "version": 3
   },
   "file_extension": ".py",
   "mimetype": "text/x-python",
   "name": "python",
   "nbconvert_exporter": "python",
   "pygments_lexer": "ipython3",
   "version": "3.6.2"
  }
 },
 "nbformat": 4,
 "nbformat_minor": 2
}
