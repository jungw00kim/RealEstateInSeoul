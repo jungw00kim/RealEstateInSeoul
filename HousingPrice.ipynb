{
 "cells": [
  {
   "cell_type": "code",
   "execution_count": null,
   "metadata": {},
   "outputs": [],
   "source": [
    "from urllib.parse import urlencode, quote_plus\n",
    "from urllib.request import urlopen, Request\n",
    "import pandas as pd\n",
    "import json, xmltodict\n",
    "import pandas_profiling\n",
    "\n",
    "service_key = 'VtS0z8ILedUMwjLe4kgmh6T8MWir/F9BsncSDqxFPsMsJaeTDkw3fDhNisjV5GdZerEeaEhxwDYbDhRG2SDz1g=='"
   ]
  },
  {
   "cell_type": "code",
   "execution_count": null,
   "metadata": {},
   "outputs": [],
   "source": [
    "def get_gongdong_price(pnu, stdrYear, numOfRows, pageNo):    \n",
    "    queryParams = '?' + urlencode({ quote_plus('ServiceKey') : service_key, quote_plus('pnu') : pnu, quote_plus('stdrYear') : stdrYear, quote_plus('format') : 'json', quote_plus('numOfRows') : numOfRows, quote_plus('pageNo') : pageNo })\n",
    "    \n",
    "    url = 'http://apis.data.go.kr/1611000/nsdi/ApartHousingPriceService/attr/getApartHousingPriceAttr'\n",
    "    request = Request(url + queryParams)\n",
    "    request.get_method = lambda: 'GET'\n",
    "    response_body = urlopen(request).read().decode('utf-8')\n",
    "    data = json.loads(response_body)\n",
    "    \n",
    "    return data"
   ]
  },
  {
   "cell_type": "code",
   "execution_count": null,
   "metadata": {},
   "outputs": [],
   "source": [
    "def get_price_yeonrib(LAWD_CD, DEAL_YMD):\n",
    "    queryParams = '?' + urlencode({ quote_plus('ServiceKey') : service_key, quote_plus('LAWD_CD') : LAWD_CD, quote_plus('DEAL_YMD') : DEAL_YMD })\n",
    "\n",
    "    url_yeonrib = 'http://openapi.molit.go.kr:8081/OpenAPI_ToolInstallPackage/service/rest/RTMSOBJSvc/getRTMSDataSvcRHTrade'\n",
    "    request = Request(url_yeonrib + queryParams)\n",
    "    request.get_method = lambda: 'GET'\n",
    "    response_body = urlopen(request).read().decode('utf-8')\n",
    "    data = json.loads(json.dumps(xmltodict.parse(response_body)))\n",
    "    \n",
    "    return data"
   ]
  },
  {
   "cell_type": "code",
   "execution_count": null,
   "metadata": {},
   "outputs": [],
   "source": [
    "code_df = pd.read_csv('/Users/jungwookim/dev/RealEstateInSeoul/beob_code.csv', encoding = \"utf-8\", index_col='법정동코드')\n",
    "code_dic = code_df.loc[:,['법정동명']].to_dict()['법정동명']\n",
    "\n",
    "seoul_code_list = list()\n",
    "for code in code_dic:\n",
    "    if code < 2000000000:\n",
    "        seoul_code_10[code] = code_dic[code]\n",
    "        \n",
    "for key in seoul_code_list:\n",
    "    seoul_code_list.append((str(key)[:5], str(key)[5:], seoul_code_10[key]))"
   ]
  },
  {
   "cell_type": "code",
   "execution_count": null,
   "metadata": {},
   "outputs": [],
   "source": [
    "province_list = list()\n",
    "for item in seoul_code_list:\n",
    "    if item[0] not in province_list:\n",
    "        province_list.append(item[0])"
   ]
  },
  {
   "cell_type": "code",
   "execution_count": null,
   "metadata": {},
   "outputs": [],
   "source": [
    "def get_address(code_list):\n",
    "    address_list = list()\n",
    "    for item in code_list:\n",
    "        # ~구라고 되어있는 곳까지 짜르고\n",
    "        if item[2].find('구') == -1:\n",
    "            continue\n",
    "        else:\n",
    "            split_point = item[2].find('구')\n",
    "            tp = (item[0], item[2][:split_point+1], item[1], item[2][split_point+1:].replace(\" \", \"\"))\n",
    "            address_list.append(tp)\n",
    "    return address_list"
   ]
  },
  {
   "cell_type": "code",
   "execution_count": null,
   "metadata": {},
   "outputs": [],
   "source": [
    "# 예외 처리 방법\n",
    "def get_jibunCode(jibun):\n",
    "    if '-' in jibun:\n",
    "        split_point = jibun.find('-')\n",
    "        if len(jibun[:split_point]) == 1:\n",
    "            if len(jibun[split_point+1:]) == 1:\n",
    "                return '000'+jibun[:split_point]+'000'+jibun[split_point+1:]\n",
    "            elif len(jibun[split_point+1:]) == 2:\n",
    "                return '000'+jibun[:split_point]+'00'+jibun[split_point+1:]\n",
    "            elif len(jibun[split_point+1:]) == 3:\n",
    "                return '000'+jibun[:split_point]+'0'+jibun[split_point+1:]\n",
    "            elif len(jibun[split_point+1:]) == 4:\n",
    "                return '000'+jibun[:split_point]+jibun[split_point+1:]\n",
    "        elif len(jibun[:split_point]) == 2:\n",
    "            if len(jibun[split_point+1:]) == 1:\n",
    "                return '00'+jibun[:split_point]+'000'+jibun[split_point+1:]\n",
    "            elif len(jibun[split_point+1:]) == 2:\n",
    "                return '00'+jibun[:split_point]+'00'+jibun[split_point+1:]\n",
    "            elif len(jibun[split_point+1:]) == 3:\n",
    "                return '00'+jibun[:split_point]+'0'+jibun[split_point+1:]\n",
    "            elif len(jibun[split_point+1:]) == 4:\n",
    "                return '00'+jibun[:split_point]+jibun[split_point+1:]\n",
    "        elif len(jibun[:split_point]) == 3:\n",
    "            if len(jibun[split_point+1:]) == 1:\n",
    "                return '0'+jibun[:split_point]+'000'+jibun[split_point+1:]\n",
    "            elif len(jibun[split_point+1:]) == 2:\n",
    "                return '0'+jibun[:split_point]+'00'+jibun[split_point+1:]\n",
    "            elif len(jibun[split_point+1:]) == 3:\n",
    "                return '0'+jibun[:split_point]+'0'+jibun[split_point+1:]\n",
    "            elif len(jibun[split_point+1:]) == 4:\n",
    "                return '0'+jibun[:split_point]+jibun[split_point+1:]\n",
    "        elif len(jibun[:split_point]) == 1:\n",
    "            if len(jibun[split_point+1:]) == 4:\n",
    "                return jibun[:split_point]+'000'+jibun[split_point+1:]\n",
    "            elif len(jibun[split_point+1:]) == 2:\n",
    "                return jibun[:split_point]+'00'+jibun[split_point+1:]\n",
    "            elif len(jibun[split_point+1:]) == 3:\n",
    "                return jibun[:split_point]+'0'+jibun[split_point+1:]\n",
    "            elif len(jibun[split_point+1:]) == 4:\n",
    "                return jibun[:split_point]+jibun[split_point+1:]\n",
    "    else:\n",
    "        if len(jibun) == 1:\n",
    "            return '000'+jibun+'0000'\n",
    "        elif len(jibun) == 2:\n",
    "            return '00'+jibun+'0000'\n",
    "        elif len(jibun) == 3:\n",
    "            return '0'+jibun+'0000'\n",
    "        elif len(jibun) == 4:\n",
    "            return jibun+'0000'"
   ]
  },
  {
   "cell_type": "code",
   "execution_count": null,
   "metadata": {},
   "outputs": [],
   "source": [
    "data2 = get_price_yeonrib('11110', '201712')\n",
    "df2 = pd.DataFrame(data2['response']['body']['items']['item'])\n",
    "df2.head()"
   ]
  },
  {
   "cell_type": "markdown",
   "metadata": {},
   "source": [
    "# create yeonrib.csv\n",
    "\n",
    "I'm going to create yeonrib.csv file in seoul at 2017"
   ]
  },
  {
   "cell_type": "code",
   "execution_count": null,
   "metadata": {},
   "outputs": [],
   "source": [
    "with open('/Users/jungwookim/dev/RealEstateInSeoul/yeonrib.csv', 'a') as f:\n",
    "    df_temp = pd.DataFrame(columns=df2.columns)\n",
    "    df_temp.to_csv('yeonrib.csv', index=False)\n",
    "\n",
    "    date_set = [str(x) for x in range(201701, 201713)]\n",
    "    \n",
    "    for date in date_set:\n",
    "        for item in province_list:\n",
    "            try:\n",
    "                # 여기서 코드는 구까지 있는 5-digits 코드이다.\n",
    "                data = get_price_yeonrib(item, date)\n",
    "                dataFrame = pd.DataFrame(data['response']['body']['items']['item'])\n",
    "                dataFrame.to_csv(f, header=False, columns=dataFrame.columns)\n",
    "            except:\n",
    "                continue"
   ]
  },
  {
   "cell_type": "code",
   "execution_count": null,
   "metadata": {},
   "outputs": [],
   "source": [
    "df2 = pd.read_csv('yeonrib.csv')"
   ]
  },
  {
   "cell_type": "markdown",
   "metadata": {},
   "source": [
    "# make pnu column for mapping in the future\n",
    "I need to make pnu columns based on 지역코드, 법정동, 지번.\n",
    "pnu consists of 19 digits which is like 1111010100100520018.\n",
    "\n",
    "Let's decompose that into 5+5+1+4+4 digits.\n",
    "\n",
    "* For the first 5 digits indicate 지역코드(서울시 종로구): 11110\n",
    "* next 5 digtis indicate 법정동(청운동): 10100\n",
    "* next 1 digit indicate register code: 1 (I wouldn't take anything except 1)\n",
    "* next 4 digits indicate 지번: 0052 of 52-18\n",
    "* last 4 digits indicate 지번: 0018 of 52-18"
   ]
  },
  {
   "cell_type": "code",
   "execution_count": null,
   "metadata": {},
   "outputs": [],
   "source": [
    "# Add dongCode\n",
    "\n",
    "address_list = get_address(seoul_code_list)\n",
    "dong_list = list()\n",
    "n = 0\n",
    "\n",
    "for m, row in enumerate(df2.itertuples(index=True)):\n",
    "    for item in address_list:\n",
    "        if str(getattr(row, \"지역코드\")) in item:\n",
    "            if getattr(row, \"법정동\") in item:\n",
    "                dong_list.append(item[2])\n",
    "                n += 1\n",
    "    if len(dong_list) != (m + 1):\n",
    "        dong_list.append(item[2])\n",
    "        n += 1"
   ]
  },
  {
   "cell_type": "code",
   "execution_count": null,
   "metadata": {},
   "outputs": [],
   "source": [
    "# add new columns\n",
    "df2['dongCode'] = dong_list\n",
    "\n",
    "# int to str\n",
    "df2['지역코드'] = df2['지역코드'].apply(str)"
   ]
  },
  {
   "cell_type": "markdown",
   "metadata": {},
   "source": [
    "There are some noise from data so I need to remove some NAN data."
   ]
  },
  {
   "cell_type": "code",
   "execution_count": null,
   "metadata": {},
   "outputs": [],
   "source": [
    "def remove_nan_rows(df):\n",
    "    remove_index = list()\n",
    "    for n, item in enumerate(pd.isnull(df['지번']).values):\n",
    "        if item:\n",
    "            remove_index.append(n)\n",
    "\n",
    "    print(remove_index, \"의 인덱스 rows가 삭제되었습니다.\")\n",
    "    df.drop(df.index[remove_index], inplace=True)"
   ]
  },
  {
   "cell_type": "code",
   "execution_count": null,
   "metadata": {},
   "outputs": [],
   "source": [
    "remove_nan_rows(df2)"
   ]
  },
  {
   "cell_type": "code",
   "execution_count": null,
   "metadata": {},
   "outputs": [],
   "source": [
    "# Add jibunCode\n",
    "df2['jibunCode'] = df2['지번'].map(get_jibunCode)"
   ]
  },
  {
   "cell_type": "code",
   "execution_count": null,
   "metadata": {},
   "outputs": [],
   "source": [
    "# create pnu\n",
    "df2['pnu'] = df2['지역코드'] + df2['dongCode'] + '1' + df2['jibunCode']"
   ]
  },
  {
   "cell_type": "markdown",
   "metadata": {},
   "source": [
    "# create gongdong.csv\n",
    "\n",
    "Now, I'm going to create gongdong.csv file. It is much easier."
   ]
  },
  {
   "cell_type": "code",
   "execution_count": null,
   "metadata": {},
   "outputs": [],
   "source": [
    "df = get_gongdong_price('1111010100100040007', '2017', '10', '1')\n",
    "df = pd.DataFrame(df['apartHousingPrices']['field'])\n",
    "df.head()"
   ]
  },
  {
   "cell_type": "code",
   "execution_count": null,
   "metadata": {},
   "outputs": [],
   "source": [
    "with open('/Users/jungwookim/dev/RealEstateInSeoul/gongdong.csv', 'a') as f:\n",
    "    df_temp = pd.DataFrame(columns=df.columns)\n",
    "    df_temp.to_csv('gongdong.csv', index=False)\n",
    "    \n",
    "    for code in seoul_code_10:\n",
    "        for page in range(1, 3):\n",
    "            try:\n",
    "                data = get_gongdong_price(str(code), '2017', '100', str(page))\n",
    "                data_frame = pd.DataFrame(data['apartHousingPrices']['field'])\n",
    "                data_frame.to_csv(f, header=False, index_label = data_frame.columns)\n",
    "                print(code, page)\n",
    "            except:\n",
    "                print(\"{} on {} PAGE NOT FOUND\".format(code, page))\n",
    "                continue"
   ]
  },
  {
   "cell_type": "code",
   "execution_count": null,
   "metadata": {},
   "outputs": [],
   "source": [
    "pd.read_csv('gongdong.csv').head()"
   ]
  },
  {
   "cell_type": "markdown",
   "metadata": {},
   "source": [
    "We're finally done with preparing data for analysis."
   ]
  }
 ],
 "metadata": {
  "kernelspec": {
   "display_name": "Python 3",
   "language": "python",
   "name": "python3"
  },
  "language_info": {
   "codemirror_mode": {
    "name": "ipython",
    "version": 3
   },
   "file_extension": ".py",
   "mimetype": "text/x-python",
   "name": "python",
   "nbconvert_exporter": "python",
   "pygments_lexer": "ipython3",
   "version": "3.6.2"
  }
 },
 "nbformat": 4,
 "nbformat_minor": 2
}
